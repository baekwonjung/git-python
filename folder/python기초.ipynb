{
 "cells": [
  {
   "cell_type": "code",
   "execution_count": 2,
   "source": [
    "#조건문 우선 순위 not>and>or\r\n",
    "a=10\r\n",
    "b=8\r\n",
    "c=11\r\n",
    "if a==10 or b==9 and c==12:\r\n",
    "    print(\"ture\")\r\n",
    "if not a==10:\r\n",
    "    print (\"a is 10\")"
   ],
   "outputs": [
    {
     "output_type": "stream",
     "name": "stdout",
     "text": [
      "ture\n"
     ]
    }
   ],
   "metadata": {}
  },
  {
   "cell_type": "code",
   "execution_count": 7,
   "source": [
    "'''if 조건이 bool이 아닌 경우\r\n",
    "다양한 타입이 올 수 있고\r\n",
    "none, 0, 0.0, 빈 리스트, 빈 튜플 등이면 false\r\n",
    "'''\r\n",
    "a=[]\r\n",
    "if a:\r\n",
    "    print('10')"
   ],
   "outputs": [],
   "metadata": {}
  },
  {
   "cell_type": "code",
   "execution_count": 8,
   "source": [
    "#if elif else\r\n",
    "a=10\r\n",
    "if a%2==0:\r\n",
    "    print(a/2)"
   ],
   "outputs": [
    {
     "output_type": "stream",
     "name": "stdout",
     "text": [
      "5.0\n"
     ]
    }
   ],
   "metadata": {}
  },
  {
   "cell_type": "code",
   "execution_count": null,
   "source": [],
   "outputs": [],
   "metadata": {}
  }
 ],
 "metadata": {
  "orig_nbformat": 4,
  "language_info": {
   "name": "python",
   "version": "3.9.1",
   "mimetype": "text/x-python",
   "codemirror_mode": {
    "name": "ipython",
    "version": 3
   },
   "pygments_lexer": "ipython3",
   "nbconvert_exporter": "python",
   "file_extension": ".py"
  },
  "kernelspec": {
   "name": "python3",
   "display_name": "Python 3.9.1 64-bit"
  },
  "interpreter": {
   "hash": "63fd5069d213b44bf678585dea6b12cceca9941eaf7f819626cde1f2670de90d"
  }
 },
 "nbformat": 4,
 "nbformat_minor": 2
}