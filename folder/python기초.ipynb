{
 "cells": [
  {
   "cell_type": "code",
   "execution_count": 2,
   "source": [
    "#조건문 우선 순위 not>and>or\r\n",
    "a=10\r\n",
    "b=8\r\n",
    "c=11\r\n",
    "if a==10 or b==9 and c==12:\r\n",
    "    print(\"ture\")\r\n",
    "if not a==10:\r\n",
    "    print (\"a is 10\")"
   ],
   "outputs": [
    {
     "output_type": "stream",
     "name": "stdout",
     "text": [
      "ture\n"
     ]
    }
   ],
   "metadata": {}
  },
  {
   "cell_type": "code",
   "execution_count": 7,
   "source": [
    "'''if 조건이 bool이 아닌 경우\r\n",
    "다양한 타입이 올 수 있고\r\n",
    "none, 0, 0.0, 빈 리스트, 빈 튜플 등이면 false\r\n",
    "'''\r\n",
    "a=[]\r\n",
    "if a:\r\n",
    "    print('10')"
   ],
   "outputs": [],
   "metadata": {}
  },
  {
   "cell_type": "code",
   "execution_count": null,
   "source": [
    "#if elif else\r\n",
    "a=10\r\n",
    "if a%2==0:\r\n",
    "    print(a/2)"
   ],
   "outputs": [],
   "metadata": {}
  },
  {
   "cell_type": "code",
   "execution_count": 2,
   "source": [
    "#while문 뒤에 조건이 true인 경우 while 코드 블록을 계속 수행\r\n",
    "#반복을 멈추게하도록 코드 작성해야함\r\n",
    "\r\n",
    "a=[1,15,5,3,6,23]\r\n",
    "b=[]\r\n",
    "for i in range(len(a)):\r\n",
    "    b.append(a[i])\r\n",
    "\r\n",
    "\r\n",
    "\r\n",
    "# while i<len(a):\r\n",
    "#     b=[]\r\n",
    "#     b.append([a[i]])\r\n",
    "#     i+=1\r\n",
    "b"
   ],
   "outputs": [
    {
     "output_type": "execute_result",
     "data": {
      "text/plain": [
       "[1, 15, 5, 3, 6, 23]"
      ]
     },
     "metadata": {},
     "execution_count": 2
    }
   ],
   "metadata": {}
  },
  {
   "cell_type": "code",
   "execution_count": 1,
   "source": [
    "#짝수인 경우 2로 나눈 값 출력, 홀수인 경우 1을 더한 값 출력\r\n",
    "a=11\r\n",
    "if a%2==0:\r\n",
    "    print(a/2)\r\n",
    "else: print(a+1)\r\n",
    "#if else 사이에 다른 코드 삽입 불가"
   ],
   "outputs": [
    {
     "output_type": "stream",
     "name": "stdout",
     "text": [
      "12\n"
     ]
    }
   ],
   "metadata": {}
  },
  {
   "cell_type": "code",
   "execution_count": 10,
   "source": [
    "# a=[1,2,3,4,5]\r\n",
    "# for i in a:\r\n",
    "#     if i%2==0:\r\n",
    "#         print(i/2)\r\n",
    "#     else:\r\n",
    "#         print(i+1)\r\n",
    "#dict의 경우 key값만 가져옴\r\n",
    "a={'korea':'seoul','japan':'tokyo'}\r\n",
    "for k in a:\r\n",
    "    print(k, a[k])\r\n",
    "for value in a.values():\r\n",
    "    print(value)\r\n",
    "a=[1,2,3,4,5]\r\n",
    "for index, num in enumerate(a):\r\n",
    "    if index>3:\r\n",
    "        print(index, num)"
   ],
   "outputs": [
    {
     "output_type": "stream",
     "name": "stdout",
     "text": [
      "korea seoul\n",
      "japan tokyo\n",
      "seoul\n",
      "tokyo\n",
      "4 5\n"
     ]
    }
   ],
   "metadata": {}
  },
  {
   "cell_type": "code",
   "execution_count": 16,
   "source": [
    "a=[100,90,80,70,60,50]\r\n",
    "for num in a:\r\n",
    "    if num<80:\r\n",
    "        break\r\n",
    "    print(num)\r\n",
    "for num in a:\r\n",
    "    if num>=80 or num<70:\r\n",
    "        continue\r\n",
    "    print(num)"
   ],
   "outputs": [
    {
     "output_type": "stream",
     "name": "stdout",
     "text": [
      "100\n",
      "90\n",
      "80\n",
      "70\n"
     ]
    }
   ],
   "metadata": {}
  },
  {
   "cell_type": "code",
   "execution_count": 26,
   "source": [
    "a=[2,3,4,5,6,7,8,9]\r\n",
    "b=[1,2,3,4,5,6,7,8,9]\r\n",
    "for i in a:\r\n",
    "    for j in b:\r\n",
    "        print(i,'*',j,'=',i*j)"
   ],
   "outputs": [
    {
     "output_type": "stream",
     "name": "stdout",
     "text": [
      "2 * 1 = 2\n",
      "2 * 2 = 4\n",
      "2 * 3 = 6\n",
      "2 * 4 = 8\n",
      "2 * 5 = 10\n",
      "2 * 6 = 12\n",
      "2 * 7 = 14\n",
      "2 * 8 = 16\n",
      "2 * 9 = 18\n",
      "3 * 1 = 3\n",
      "3 * 2 = 6\n",
      "3 * 3 = 9\n",
      "3 * 4 = 12\n",
      "3 * 5 = 15\n",
      "3 * 6 = 18\n",
      "3 * 7 = 21\n",
      "3 * 8 = 24\n",
      "3 * 9 = 27\n",
      "4 * 1 = 4\n",
      "4 * 2 = 8\n",
      "4 * 3 = 12\n",
      "4 * 4 = 16\n",
      "4 * 5 = 20\n",
      "4 * 6 = 24\n",
      "4 * 7 = 28\n",
      "4 * 8 = 32\n",
      "4 * 9 = 36\n",
      "5 * 1 = 5\n",
      "5 * 2 = 10\n",
      "5 * 3 = 15\n",
      "5 * 4 = 20\n",
      "5 * 5 = 25\n",
      "5 * 6 = 30\n",
      "5 * 7 = 35\n",
      "5 * 8 = 40\n",
      "5 * 9 = 45\n",
      "6 * 1 = 6\n",
      "6 * 2 = 12\n",
      "6 * 3 = 18\n",
      "6 * 4 = 24\n",
      "6 * 5 = 30\n",
      "6 * 6 = 36\n",
      "6 * 7 = 42\n",
      "6 * 8 = 48\n",
      "6 * 9 = 54\n",
      "7 * 1 = 7\n",
      "7 * 2 = 14\n",
      "7 * 3 = 21\n",
      "7 * 4 = 28\n",
      "7 * 5 = 35\n",
      "7 * 6 = 42\n",
      "7 * 7 = 49\n",
      "7 * 8 = 56\n",
      "7 * 9 = 63\n",
      "8 * 1 = 8\n",
      "8 * 2 = 16\n",
      "8 * 3 = 24\n",
      "8 * 4 = 32\n",
      "8 * 5 = 40\n",
      "8 * 6 = 48\n",
      "8 * 7 = 56\n",
      "8 * 8 = 64\n",
      "8 * 9 = 72\n",
      "9 * 1 = 9\n",
      "9 * 2 = 18\n",
      "9 * 3 = 27\n",
      "9 * 4 = 36\n",
      "9 * 5 = 45\n",
      "9 * 6 = 54\n",
      "9 * 7 = 63\n",
      "9 * 8 = 72\n",
      "9 * 9 = 81\n"
     ]
    }
   ],
   "metadata": {}
  },
  {
   "cell_type": "code",
   "execution_count": 3,
   "source": [
    "# a=list(range(5,101,5))\r\n",
    "# for i in a:\r\n",
    "#     print(i)\r\n",
    "for i in range(5,101,5):\r\n",
    "    print(i)"
   ],
   "outputs": [
    {
     "output_type": "stream",
     "name": "stdout",
     "text": [
      "5\n",
      "10\n",
      "15\n",
      "20\n",
      "25\n",
      "30\n",
      "35\n",
      "40\n",
      "45\n",
      "50\n",
      "55\n",
      "60\n",
      "65\n",
      "70\n",
      "75\n",
      "80\n",
      "85\n",
      "90\n",
      "95\n",
      "100\n"
     ]
    }
   ],
   "metadata": {}
  },
  {
   "cell_type": "code",
   "execution_count": 5,
   "source": [
    "# for문 사용한 구구단\r\n",
    "# for i in range(2,10):\r\n",
    "#     for j in range(1,10):\r\n",
    "#         print(i,'x',j,'=',i*j)\r\n",
    "\r\n",
    "# while문 사용한 구구단\r\n",
    "x=2\r\n",
    "\r\n",
    "while x<=9:\r\n",
    "    y=1\r\n",
    "    while y<=9:\r\n",
    "        print(x,'x',y,'=',x*y)\r\n",
    "        y+=1\r\n",
    "    x+=1\r\n",
    "\r\n"
   ],
   "outputs": [
    {
     "output_type": "stream",
     "name": "stdout",
     "text": [
      "2 x 1 = 2\n",
      "2 x 2 = 4\n",
      "2 x 3 = 6\n",
      "2 x 4 = 8\n",
      "2 x 5 = 10\n",
      "2 x 6 = 12\n",
      "2 x 7 = 14\n",
      "2 x 8 = 16\n",
      "2 x 9 = 18\n",
      "3 x 1 = 3\n",
      "3 x 2 = 6\n",
      "3 x 3 = 9\n",
      "3 x 4 = 12\n",
      "3 x 5 = 15\n",
      "3 x 6 = 18\n",
      "3 x 7 = 21\n",
      "3 x 8 = 24\n",
      "3 x 9 = 27\n",
      "4 x 1 = 4\n",
      "4 x 2 = 8\n",
      "4 x 3 = 12\n",
      "4 x 4 = 16\n",
      "4 x 5 = 20\n",
      "4 x 6 = 24\n",
      "4 x 7 = 28\n",
      "4 x 8 = 32\n",
      "4 x 9 = 36\n",
      "5 x 1 = 5\n",
      "5 x 2 = 10\n",
      "5 x 3 = 15\n",
      "5 x 4 = 20\n",
      "5 x 5 = 25\n",
      "5 x 6 = 30\n",
      "5 x 7 = 35\n",
      "5 x 8 = 40\n",
      "5 x 9 = 45\n",
      "6 x 1 = 6\n",
      "6 x 2 = 12\n",
      "6 x 3 = 18\n",
      "6 x 4 = 24\n",
      "6 x 5 = 30\n",
      "6 x 6 = 36\n",
      "6 x 7 = 42\n",
      "6 x 8 = 48\n",
      "6 x 9 = 54\n",
      "7 x 1 = 7\n",
      "7 x 2 = 14\n",
      "7 x 3 = 21\n",
      "7 x 4 = 28\n",
      "7 x 5 = 35\n",
      "7 x 6 = 42\n",
      "7 x 7 = 49\n",
      "7 x 8 = 56\n",
      "7 x 9 = 63\n",
      "8 x 1 = 8\n",
      "8 x 2 = 16\n",
      "8 x 3 = 24\n",
      "8 x 4 = 32\n",
      "8 x 5 = 40\n",
      "8 x 6 = 48\n",
      "8 x 7 = 56\n",
      "8 x 8 = 64\n",
      "8 x 9 = 72\n",
      "9 x 1 = 9\n",
      "9 x 2 = 18\n",
      "9 x 3 = 27\n",
      "9 x 4 = 36\n",
      "9 x 5 = 45\n",
      "9 x 6 = 54\n",
      "9 x 7 = 63\n",
      "9 x 8 = 72\n",
      "9 x 9 = 81\n"
     ]
    }
   ],
   "metadata": {}
  },
  {
   "cell_type": "code",
   "execution_count": 38,
   "source": [
    "#1-100까지 정수 중 2배수 또는 11 배수를 모두 출력\r\n",
    "a=list(range(1,101))\r\n",
    "for i in a:\r\n",
    "    if i%2==0 or i%11==0:\r\n",
    "        print(i)"
   ],
   "outputs": [
    {
     "output_type": "stream",
     "name": "stdout",
     "text": [
      "2\n",
      "4\n",
      "6\n",
      "8\n",
      "10\n",
      "11\n",
      "12\n",
      "14\n",
      "16\n",
      "18\n",
      "20\n",
      "22\n",
      "24\n",
      "26\n",
      "28\n",
      "30\n",
      "32\n",
      "33\n",
      "34\n",
      "36\n",
      "38\n",
      "40\n",
      "42\n",
      "44\n",
      "46\n",
      "48\n",
      "50\n",
      "52\n",
      "54\n",
      "55\n",
      "56\n",
      "58\n",
      "60\n",
      "62\n",
      "64\n",
      "66\n",
      "68\n",
      "70\n",
      "72\n",
      "74\n",
      "76\n",
      "77\n",
      "78\n",
      "80\n",
      "82\n",
      "84\n",
      "86\n",
      "88\n",
      "90\n",
      "92\n",
      "94\n",
      "96\n",
      "98\n",
      "99\n",
      "100\n"
     ]
    }
   ],
   "metadata": {}
  },
  {
   "cell_type": "code",
   "execution_count": 7,
   "source": [
    "a=[22,1,3,4,7,21,98,55,87,99,19,20,45]\r\n",
    "max=a[0]\r\n",
    "min=a[0]\r\n",
    "for i in a[1:]:\r\n",
    "    if i>max:\r\n",
    "        max=i\r\n",
    "for i in a[1:]:\r\n",
    "    if i<min:\r\n",
    "        min=i\r\n",
    "\r\n",
    "print(max, min)\r\n",
    "\r\n",
    "#sort함수(정렬)사용\r\n",
    "# a.sort()\r\n",
    "# a[0], a[-1]"
   ],
   "outputs": [
    {
     "output_type": "stream",
     "name": "stdout",
     "text": [
      "99 1\n"
     ]
    }
   ],
   "metadata": {}
  },
  {
   "cell_type": "code",
   "execution_count": 9,
   "source": [
    "a=[22,1,3,4,7,21,98,55,87,99,19,20,45]\r\n",
    "# k=0\r\n",
    "# for i in a:\r\n",
    "#     k+=i\r\n",
    "# k=k/len(a)\r\n",
    "# print(k)\r\n",
    "\r\n",
    "#while문 사용\r\n",
    "i=0\r\n",
    "_sum=0\r\n",
    "while i <len(a):\r\n",
    "    _sum+=a[i]\r\n",
    "    i+=1\r\n",
    "\r\n",
    "print(_sum/len(a))"
   ],
   "outputs": [
    {
     "output_type": "stream",
     "name": "stdout",
     "text": [
      "37.0\n"
     ]
    }
   ],
   "metadata": {}
  },
  {
   "cell_type": "code",
   "execution_count": null,
   "source": [],
   "outputs": [],
   "metadata": {}
  }
 ],
 "metadata": {
  "orig_nbformat": 4,
  "language_info": {
   "name": "python",
   "version": "3.9.1",
   "mimetype": "text/x-python",
   "codemirror_mode": {
    "name": "ipython",
    "version": 3
   },
   "pygments_lexer": "ipython3",
   "nbconvert_exporter": "python",
   "file_extension": ".py"
  },
  "kernelspec": {
   "name": "python3",
   "display_name": "Python 3.9.1 64-bit"
  },
  "interpreter": {
   "hash": "63fd5069d213b44bf678585dea6b12cceca9941eaf7f819626cde1f2670de90d"
  }
 },
 "nbformat": 4,
 "nbformat_minor": 2
}