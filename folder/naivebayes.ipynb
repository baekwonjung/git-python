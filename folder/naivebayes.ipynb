{
 "cells": [
  {
   "cell_type": "code",
   "execution_count": 5,
   "source": [
    "from sklearn import datasets\r\n",
    "from sklearn.naive_bayes import GaussianNB"
   ],
   "outputs": [],
   "metadata": {}
  },
  {
   "cell_type": "code",
   "execution_count": 8,
   "source": [
    "import pandas as pd"
   ],
   "outputs": [],
   "metadata": {}
  },
  {
   "cell_type": "code",
   "execution_count": 11,
   "source": [
    "iris = datasets.load_iris()\r\n",
    "df_X=pd.DataFrame(iris.data)\r\n",
    "df_Y=pd.DataFrame(iris.target)"
   ],
   "outputs": [],
   "metadata": {}
  },
  {
   "cell_type": "code",
   "execution_count": 13,
   "source": [
    "df_X.head()"
   ],
   "outputs": [
    {
     "output_type": "execute_result",
     "data": {
      "text/plain": [
       "     0    1    2    3\n",
       "0  5.1  3.5  1.4  0.2\n",
       "1  4.9  3.0  1.4  0.2\n",
       "2  4.7  3.2  1.3  0.2\n",
       "3  4.6  3.1  1.5  0.2\n",
       "4  5.0  3.6  1.4  0.2"
      ],
      "text/html": [
       "<div>\n",
       "<style scoped>\n",
       "    .dataframe tbody tr th:only-of-type {\n",
       "        vertical-align: middle;\n",
       "    }\n",
       "\n",
       "    .dataframe tbody tr th {\n",
       "        vertical-align: top;\n",
       "    }\n",
       "\n",
       "    .dataframe thead th {\n",
       "        text-align: right;\n",
       "    }\n",
       "</style>\n",
       "<table border=\"1\" class=\"dataframe\">\n",
       "  <thead>\n",
       "    <tr style=\"text-align: right;\">\n",
       "      <th></th>\n",
       "      <th>0</th>\n",
       "      <th>1</th>\n",
       "      <th>2</th>\n",
       "      <th>3</th>\n",
       "    </tr>\n",
       "  </thead>\n",
       "  <tbody>\n",
       "    <tr>\n",
       "      <th>0</th>\n",
       "      <td>5.1</td>\n",
       "      <td>3.5</td>\n",
       "      <td>1.4</td>\n",
       "      <td>0.2</td>\n",
       "    </tr>\n",
       "    <tr>\n",
       "      <th>1</th>\n",
       "      <td>4.9</td>\n",
       "      <td>3.0</td>\n",
       "      <td>1.4</td>\n",
       "      <td>0.2</td>\n",
       "    </tr>\n",
       "    <tr>\n",
       "      <th>2</th>\n",
       "      <td>4.7</td>\n",
       "      <td>3.2</td>\n",
       "      <td>1.3</td>\n",
       "      <td>0.2</td>\n",
       "    </tr>\n",
       "    <tr>\n",
       "      <th>3</th>\n",
       "      <td>4.6</td>\n",
       "      <td>3.1</td>\n",
       "      <td>1.5</td>\n",
       "      <td>0.2</td>\n",
       "    </tr>\n",
       "    <tr>\n",
       "      <th>4</th>\n",
       "      <td>5.0</td>\n",
       "      <td>3.6</td>\n",
       "      <td>1.4</td>\n",
       "      <td>0.2</td>\n",
       "    </tr>\n",
       "  </tbody>\n",
       "</table>\n",
       "</div>"
      ]
     },
     "metadata": {},
     "execution_count": 13
    }
   ],
   "metadata": {}
  },
  {
   "cell_type": "code",
   "execution_count": 14,
   "source": [
    "df_Y.head()"
   ],
   "outputs": [
    {
     "output_type": "execute_result",
     "data": {
      "text/plain": [
       "   0\n",
       "0  0\n",
       "1  0\n",
       "2  0\n",
       "3  0\n",
       "4  0"
      ],
      "text/html": [
       "<div>\n",
       "<style scoped>\n",
       "    .dataframe tbody tr th:only-of-type {\n",
       "        vertical-align: middle;\n",
       "    }\n",
       "\n",
       "    .dataframe tbody tr th {\n",
       "        vertical-align: top;\n",
       "    }\n",
       "\n",
       "    .dataframe thead th {\n",
       "        text-align: right;\n",
       "    }\n",
       "</style>\n",
       "<table border=\"1\" class=\"dataframe\">\n",
       "  <thead>\n",
       "    <tr style=\"text-align: right;\">\n",
       "      <th></th>\n",
       "      <th>0</th>\n",
       "    </tr>\n",
       "  </thead>\n",
       "  <tbody>\n",
       "    <tr>\n",
       "      <th>0</th>\n",
       "      <td>0</td>\n",
       "    </tr>\n",
       "    <tr>\n",
       "      <th>1</th>\n",
       "      <td>0</td>\n",
       "    </tr>\n",
       "    <tr>\n",
       "      <th>2</th>\n",
       "      <td>0</td>\n",
       "    </tr>\n",
       "    <tr>\n",
       "      <th>3</th>\n",
       "      <td>0</td>\n",
       "    </tr>\n",
       "    <tr>\n",
       "      <th>4</th>\n",
       "      <td>0</td>\n",
       "    </tr>\n",
       "  </tbody>\n",
       "</table>\n",
       "</div>"
      ]
     },
     "metadata": {},
     "execution_count": 14
    }
   ],
   "metadata": {}
  },
  {
   "cell_type": "code",
   "execution_count": 17,
   "source": [
    "#모델 피팅\r\n",
    "gnb=GaussianNB()\r\n",
    "fitted=gnb.fit(iris.data,iris.target)\r\n",
    "y_pred=fitted.predict(iris.data)"
   ],
   "outputs": [],
   "metadata": {}
  },
  {
   "cell_type": "code",
   "execution_count": 18,
   "source": [
    "fitted.predict_proba(iris.data)[[1,48,51,100]]"
   ],
   "outputs": [
    {
     "output_type": "execute_result",
     "data": {
      "text/plain": [
       "array([[1.00000000e+000, 1.51480769e-017, 2.34820051e-025],\n",
       "       [1.00000000e+000, 2.63876217e-018, 2.79566024e-025],\n",
       "       [7.27347795e-102, 9.45169639e-001, 5.48303606e-002],\n",
       "       [3.23245181e-254, 6.35381031e-011, 1.00000000e+000]])"
      ]
     },
     "metadata": {},
     "execution_count": 18
    }
   ],
   "metadata": {}
  },
  {
   "cell_type": "code",
   "execution_count": 19,
   "source": [
    "fitted.predict(iris.data)[[1,48,51,100]]"
   ],
   "outputs": [
    {
     "output_type": "execute_result",
     "data": {
      "text/plain": [
       "array([0, 0, 1, 2])"
      ]
     },
     "metadata": {},
     "execution_count": 19
    }
   ],
   "metadata": {}
  },
  {
   "cell_type": "code",
   "execution_count": 20,
   "source": [
    "#confustion matrix\r\n",
    "from sklearn.metrics import  confusion_matrix"
   ],
   "outputs": [],
   "metadata": {}
  },
  {
   "cell_type": "code",
   "execution_count": 21,
   "source": [
    "confusion_matrix(iris.target,y_pred)"
   ],
   "outputs": [
    {
     "output_type": "execute_result",
     "data": {
      "text/plain": [
       "array([[50,  0,  0],\n",
       "       [ 0, 47,  3],\n",
       "       [ 0,  3, 47]], dtype=int64)"
      ]
     },
     "metadata": {},
     "execution_count": 21
    }
   ],
   "metadata": {}
  },
  {
   "cell_type": "code",
   "execution_count": 24,
   "source": [
    "#prior 설정\r\n",
    "gnb2=GaussianNB(priors=[1/100,1/100,98/100])\r\n",
    "fitted2=gnb2.fit(iris.data,iris.target)\r\n",
    "y_pred2=fitted2.predict(iris.data)\r\n",
    "confusion_matrix(iris.target,y_pred2)"
   ],
   "outputs": [
    {
     "output_type": "execute_result",
     "data": {
      "text/plain": [
       "array([[50,  0,  0],\n",
       "       [ 0, 33, 17],\n",
       "       [ 0,  0, 50]], dtype=int64)"
      ]
     },
     "metadata": {},
     "execution_count": 24
    }
   ],
   "metadata": {}
  },
  {
   "cell_type": "code",
   "execution_count": 25,
   "source": [
    "gnb2=GaussianNB(priors=[1/100,98/100,1/100])\r\n",
    "fitted2=gnb2.fit(iris.data,iris.target)\r\n",
    "y_pred2=fitted2.predict(iris.data)\r\n",
    "confusion_matrix(iris.target,y_pred2)"
   ],
   "outputs": [
    {
     "output_type": "execute_result",
     "data": {
      "text/plain": [
       "array([[50,  0,  0],\n",
       "       [ 0, 50,  0],\n",
       "       [ 0, 14, 36]], dtype=int64)"
      ]
     },
     "metadata": {},
     "execution_count": 25
    }
   ],
   "metadata": {}
  },
  {
   "cell_type": "code",
   "execution_count": 27,
   "source": [
    "#multinomial naive bayes\r\n",
    "from sklearn.naive_bayes import MultinomialNB"
   ],
   "outputs": [],
   "metadata": {}
  },
  {
   "cell_type": "code",
   "execution_count": 28,
   "source": [
    "import numpy as np"
   ],
   "outputs": [],
   "metadata": {}
  },
  {
   "cell_type": "code",
   "execution_count": 30,
   "source": [
    "X=np.random.randint(5, size=(6,100))\r\n",
    "y=np.array([1,2,3,4,5,6])"
   ],
   "outputs": [],
   "metadata": {}
  },
  {
   "cell_type": "code",
   "execution_count": 31,
   "source": [
    "X"
   ],
   "outputs": [
    {
     "output_type": "execute_result",
     "data": {
      "text/plain": [
       "array([[3, 0, 0, 0, 3, 2, 4, 1, 1, 4, 3, 4, 2, 2, 1, 4, 4, 4, 3, 0, 1, 4,\n",
       "        2, 1, 3, 1, 3, 4, 3, 0, 4, 3, 2, 3, 4, 3, 4, 2, 3, 3, 4, 4, 1, 0,\n",
       "        4, 3, 0, 0, 1, 4, 1, 3, 3, 3, 3, 4, 2, 1, 4, 0, 0, 2, 4, 0, 3, 1,\n",
       "        4, 3, 3, 1, 4, 3, 3, 2, 4, 2, 3, 0, 1, 3, 0, 0, 2, 0, 3, 1, 4, 2,\n",
       "        1, 4, 4, 1, 4, 0, 2, 0, 2, 2, 1, 3],\n",
       "       [3, 3, 1, 4, 3, 0, 1, 3, 3, 0, 3, 3, 2, 4, 4, 1, 4, 1, 2, 4, 3, 4,\n",
       "        1, 2, 3, 1, 3, 0, 0, 3, 4, 0, 1, 1, 4, 2, 0, 2, 2, 3, 3, 2, 1, 3,\n",
       "        3, 3, 3, 1, 1, 4, 2, 4, 4, 0, 1, 2, 0, 1, 0, 4, 4, 2, 1, 4, 4, 0,\n",
       "        4, 0, 1, 3, 2, 3, 3, 2, 1, 4, 4, 3, 3, 3, 2, 3, 3, 2, 1, 2, 3, 0,\n",
       "        4, 2, 4, 2, 3, 2, 3, 3, 4, 4, 2, 2],\n",
       "       [4, 2, 0, 0, 2, 4, 3, 2, 3, 4, 4, 1, 2, 1, 0, 0, 1, 0, 4, 1, 4, 3,\n",
       "        2, 4, 2, 2, 1, 1, 2, 1, 0, 2, 0, 0, 3, 3, 2, 3, 4, 2, 1, 3, 1, 0,\n",
       "        4, 4, 3, 1, 1, 0, 1, 1, 0, 2, 3, 4, 4, 1, 4, 0, 4, 3, 0, 4, 0, 2,\n",
       "        3, 1, 3, 4, 2, 4, 4, 4, 3, 4, 3, 2, 3, 0, 4, 0, 3, 3, 0, 3, 2, 0,\n",
       "        0, 2, 4, 0, 1, 1, 2, 3, 3, 3, 4, 3],\n",
       "       [2, 1, 1, 0, 1, 4, 3, 2, 2, 0, 1, 4, 1, 1, 0, 0, 4, 3, 4, 1, 3, 1,\n",
       "        4, 4, 3, 4, 0, 2, 1, 2, 2, 1, 4, 3, 2, 3, 1, 0, 2, 1, 0, 3, 4, 4,\n",
       "        1, 4, 4, 1, 4, 4, 3, 0, 0, 3, 3, 2, 3, 3, 2, 2, 3, 3, 0, 4, 3, 4,\n",
       "        4, 0, 1, 1, 3, 4, 2, 3, 1, 2, 0, 4, 4, 2, 4, 2, 0, 3, 1, 2, 3, 1,\n",
       "        3, 3, 2, 2, 0, 3, 1, 2, 4, 1, 3, 2],\n",
       "       [1, 3, 4, 1, 1, 4, 1, 3, 1, 2, 4, 3, 4, 1, 3, 3, 0, 4, 1, 3, 4, 1,\n",
       "        1, 1, 4, 3, 4, 2, 1, 1, 2, 3, 3, 1, 1, 4, 0, 4, 2, 0, 4, 1, 4, 2,\n",
       "        3, 3, 3, 2, 0, 1, 4, 3, 4, 3, 2, 1, 0, 1, 4, 1, 2, 0, 0, 0, 4, 1,\n",
       "        2, 1, 1, 3, 2, 2, 4, 2, 0, 3, 1, 4, 1, 1, 2, 2, 1, 1, 4, 4, 0, 0,\n",
       "        3, 2, 1, 4, 0, 2, 3, 1, 4, 0, 3, 3],\n",
       "       [2, 3, 3, 4, 1, 2, 4, 1, 1, 0, 3, 0, 4, 3, 4, 0, 1, 2, 4, 3, 0, 0,\n",
       "        0, 0, 1, 4, 3, 2, 0, 0, 4, 4, 4, 4, 4, 2, 2, 0, 4, 2, 2, 2, 2, 3,\n",
       "        4, 4, 3, 4, 2, 1, 3, 4, 1, 4, 2, 0, 4, 3, 3, 2, 1, 1, 3, 3, 0, 1,\n",
       "        0, 2, 3, 0, 1, 4, 3, 3, 4, 2, 4, 1, 4, 2, 2, 4, 0, 2, 2, 1, 4, 1,\n",
       "        2, 0, 2, 1, 0, 1, 0, 1, 1, 2, 1, 2]])"
      ]
     },
     "metadata": {},
     "execution_count": 31
    }
   ],
   "metadata": {}
  },
  {
   "cell_type": "code",
   "execution_count": 33,
   "source": [
    "y"
   ],
   "outputs": [
    {
     "output_type": "execute_result",
     "data": {
      "text/plain": [
       "array([1, 2, 3, 4, 5, 6])"
      ]
     },
     "metadata": {},
     "execution_count": 33
    }
   ],
   "metadata": {}
  },
  {
   "cell_type": "code",
   "execution_count": 40,
   "source": [
    "clf=MultinomialNB()\r\n",
    "clf.fit(X,y)"
   ],
   "outputs": [
    {
     "output_type": "execute_result",
     "data": {
      "text/plain": [
       "MultinomialNB()"
      ]
     },
     "metadata": {},
     "execution_count": 40
    }
   ],
   "metadata": {}
  },
  {
   "cell_type": "code",
   "execution_count": 43,
   "source": [
    "print(clf.predict(X[2:3]))"
   ],
   "outputs": [
    {
     "output_type": "stream",
     "name": "stdout",
     "text": [
      "[3]\n"
     ]
    }
   ],
   "metadata": {}
  },
  {
   "cell_type": "code",
   "execution_count": 42,
   "source": [
    "clf.predict_proba(X[2:3])"
   ],
   "outputs": [
    {
     "output_type": "execute_result",
     "data": {
      "text/plain": [
       "array([[7.30441166e-32, 2.48131847e-32, 1.00000000e+00, 1.11104951e-26,\n",
       "        3.29430627e-35, 2.15966679e-37]])"
      ]
     },
     "metadata": {},
     "execution_count": 42
    }
   ],
   "metadata": {}
  },
  {
   "cell_type": "code",
   "execution_count": 44,
   "source": [
    "clf2=MultinomialNB(class_prior=[0.1,0.1999,0.0001,0.1,0.1,0.1])\r\n",
    "clf2.fit(X,y)"
   ],
   "outputs": [
    {
     "output_type": "execute_result",
     "data": {
      "text/plain": [
       "MultinomialNB(class_prior=[0.1, 0.1999, 0.0001, 0.1, 0.1, 0.1])"
      ]
     },
     "metadata": {},
     "execution_count": 44
    }
   ],
   "metadata": {}
  },
  {
   "cell_type": "code",
   "execution_count": 45,
   "source": [
    "clf2.predict_proba(X[2:3])"
   ],
   "outputs": [
    {
     "output_type": "execute_result",
     "data": {
      "text/plain": [
       "array([[7.30441166e-29, 4.96015562e-29, 1.00000000e+00, 1.11104951e-23,\n",
       "        3.29430627e-32, 2.15966679e-34]])"
      ]
     },
     "metadata": {},
     "execution_count": 45
    }
   ],
   "metadata": {}
  }
 ],
 "metadata": {
  "orig_nbformat": 4,
  "language_info": {
   "name": "python",
   "version": "3.9.1",
   "mimetype": "text/x-python",
   "codemirror_mode": {
    "name": "ipython",
    "version": 3
   },
   "pygments_lexer": "ipython3",
   "nbconvert_exporter": "python",
   "file_extension": ".py"
  },
  "kernelspec": {
   "name": "python3",
   "display_name": "Python 3.9.1 64-bit"
  },
  "interpreter": {
   "hash": "63fd5069d213b44bf678585dea6b12cceca9941eaf7f819626cde1f2670de90d"
  }
 },
 "nbformat": 4,
 "nbformat_minor": 2
}